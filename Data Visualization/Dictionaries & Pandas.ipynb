{
 "cells": [
  {
   "cell_type": "code",
   "execution_count": 1,
   "id": "479468b8",
   "metadata": {},
   "outputs": [],
   "source": [
    "# Pandas is a powerful library used by data scientists"
   ]
  },
  {
   "cell_type": "code",
   "execution_count": 2,
   "id": "b2343715",
   "metadata": {},
   "outputs": [],
   "source": [
    "# CRUD - Create, Read, Update and Delete\n",
    "# Everything you need to get up and running!\n",
    "# Crash course for getting started with tabular data"
   ]
  },
  {
   "cell_type": "code",
   "execution_count": 3,
   "id": "9902ee15",
   "metadata": {},
   "outputs": [],
   "source": [
    "import pandas as pd"
   ]
  },
  {
   "cell_type": "code",
   "execution_count": 6,
   "id": "f7d696fc",
   "metadata": {},
   "outputs": [],
   "source": [
    "# pd. then hit tab key shows all the available options"
   ]
  },
  {
   "cell_type": "code",
   "execution_count": 7,
   "id": "494f2a47",
   "metadata": {},
   "outputs": [],
   "source": [
    "# Creat from a CSV"
   ]
  },
  {
   "cell_type": "code",
   "execution_count": 9,
   "id": "8be578fd",
   "metadata": {},
   "outputs": [],
   "source": [
    "# df = pd.read_csv(\"telco_churn.csv\")...to read in a data set"
   ]
  },
  {
   "cell_type": "code",
   "execution_count": 10,
   "id": "040d5554",
   "metadata": {},
   "outputs": [],
   "source": [
    "# df.head()...view first 5 rows of data or (10) to see first ten rows of data. Index 0."
   ]
  },
  {
   "cell_type": "code",
   "execution_count": 11,
   "id": "8f1a72ce",
   "metadata": {},
   "outputs": [],
   "source": [
    "# Create from a Dictionary"
   ]
  },
  {
   "cell_type": "code",
   "execution_count": 5,
   "id": "ec0ed8f1",
   "metadata": {},
   "outputs": [],
   "source": [
    "tempdict = {'col1':[1, 2, 3], 'col2':[4, 5, 6], 'col3':[7, 8, 9]}"
   ]
  },
  {
   "cell_type": "code",
   "execution_count": 6,
   "id": "5ef4d2e4",
   "metadata": {},
   "outputs": [],
   "source": [
    "dictdf = pd.DataFrame.from_dict(tempdict)"
   ]
  },
  {
   "cell_type": "code",
   "execution_count": 14,
   "id": "44000e53",
   "metadata": {},
   "outputs": [
    {
     "data": {
      "text/html": [
       "<div>\n",
       "<style scoped>\n",
       "    .dataframe tbody tr th:only-of-type {\n",
       "        vertical-align: middle;\n",
       "    }\n",
       "\n",
       "    .dataframe tbody tr th {\n",
       "        vertical-align: top;\n",
       "    }\n",
       "\n",
       "    .dataframe thead th {\n",
       "        text-align: right;\n",
       "    }\n",
       "</style>\n",
       "<table border=\"1\" class=\"dataframe\">\n",
       "  <thead>\n",
       "    <tr style=\"text-align: right;\">\n",
       "      <th></th>\n",
       "      <th>col1</th>\n",
       "      <th>col2</th>\n",
       "      <th>col3</th>\n",
       "    </tr>\n",
       "  </thead>\n",
       "  <tbody>\n",
       "    <tr>\n",
       "      <th>0</th>\n",
       "      <td>1</td>\n",
       "      <td>4</td>\n",
       "      <td>7</td>\n",
       "    </tr>\n",
       "    <tr>\n",
       "      <th>1</th>\n",
       "      <td>2</td>\n",
       "      <td>5</td>\n",
       "      <td>8</td>\n",
       "    </tr>\n",
       "    <tr>\n",
       "      <th>2</th>\n",
       "      <td>3</td>\n",
       "      <td>6</td>\n",
       "      <td>9</td>\n",
       "    </tr>\n",
       "  </tbody>\n",
       "</table>\n",
       "</div>"
      ],
      "text/plain": [
       "   col1  col2  col3\n",
       "0     1     4     7\n",
       "1     2     5     8\n",
       "2     3     6     9"
      ]
     },
     "execution_count": 14,
     "metadata": {},
     "output_type": "execute_result"
    }
   ],
   "source": [
    "dictdf.head()"
   ]
  },
  {
   "cell_type": "code",
   "execution_count": 15,
   "id": "fb3839d2",
   "metadata": {},
   "outputs": [
    {
     "data": {
      "text/html": [
       "<div>\n",
       "<style scoped>\n",
       "    .dataframe tbody tr th:only-of-type {\n",
       "        vertical-align: middle;\n",
       "    }\n",
       "\n",
       "    .dataframe tbody tr th {\n",
       "        vertical-align: top;\n",
       "    }\n",
       "\n",
       "    .dataframe thead th {\n",
       "        text-align: right;\n",
       "    }\n",
       "</style>\n",
       "<table border=\"1\" class=\"dataframe\">\n",
       "  <thead>\n",
       "    <tr style=\"text-align: right;\">\n",
       "      <th></th>\n",
       "      <th>col1</th>\n",
       "      <th>col2</th>\n",
       "      <th>col3</th>\n",
       "    </tr>\n",
       "  </thead>\n",
       "  <tbody>\n",
       "    <tr>\n",
       "      <th>0</th>\n",
       "      <td>1</td>\n",
       "      <td>4</td>\n",
       "      <td>7</td>\n",
       "    </tr>\n",
       "    <tr>\n",
       "      <th>1</th>\n",
       "      <td>2</td>\n",
       "      <td>5</td>\n",
       "      <td>8</td>\n",
       "    </tr>\n",
       "    <tr>\n",
       "      <th>2</th>\n",
       "      <td>3</td>\n",
       "      <td>6</td>\n",
       "      <td>9</td>\n",
       "    </tr>\n",
       "  </tbody>\n",
       "</table>\n",
       "</div>"
      ],
      "text/plain": [
       "   col1  col2  col3\n",
       "0     1     4     7\n",
       "1     2     5     8\n",
       "2     3     6     9"
      ]
     },
     "execution_count": 15,
     "metadata": {},
     "output_type": "execute_result"
    }
   ],
   "source": [
    "dictdf.tail()"
   ]
  },
  {
   "cell_type": "code",
   "execution_count": 17,
   "id": "f09f2a14",
   "metadata": {},
   "outputs": [
    {
     "data": {
      "text/plain": [
       "Index(['col1', 'col2', 'col3'], dtype='object')"
      ]
     },
     "execution_count": 17,
     "metadata": {},
     "output_type": "execute_result"
    }
   ],
   "source": [
    "dictdf.columns\n"
   ]
  },
  {
   "cell_type": "code",
   "execution_count": 7,
   "id": "201ca25d",
   "metadata": {},
   "outputs": [
    {
     "data": {
      "text/plain": [
       "col1    int64\n",
       "col2    int64\n",
       "col3    int64\n",
       "dtype: object"
      ]
     },
     "execution_count": 7,
     "metadata": {},
     "output_type": "execute_result"
    }
   ],
   "source": [
    "dictdf.dtypes"
   ]
  },
  {
   "cell_type": "code",
   "execution_count": 9,
   "id": "9ed71d31",
   "metadata": {},
   "outputs": [
    {
     "data": {
      "text/html": [
       "<div>\n",
       "<style scoped>\n",
       "    .dataframe tbody tr th:only-of-type {\n",
       "        vertical-align: middle;\n",
       "    }\n",
       "\n",
       "    .dataframe tbody tr th {\n",
       "        vertical-align: top;\n",
       "    }\n",
       "\n",
       "    .dataframe thead th {\n",
       "        text-align: right;\n",
       "    }\n",
       "</style>\n",
       "<table border=\"1\" class=\"dataframe\">\n",
       "  <thead>\n",
       "    <tr style=\"text-align: right;\">\n",
       "      <th></th>\n",
       "      <th>col1</th>\n",
       "      <th>col2</th>\n",
       "      <th>col3</th>\n",
       "    </tr>\n",
       "  </thead>\n",
       "  <tbody>\n",
       "    <tr>\n",
       "      <th>count</th>\n",
       "      <td>3.0</td>\n",
       "      <td>3.0</td>\n",
       "      <td>3.0</td>\n",
       "    </tr>\n",
       "    <tr>\n",
       "      <th>mean</th>\n",
       "      <td>2.0</td>\n",
       "      <td>5.0</td>\n",
       "      <td>8.0</td>\n",
       "    </tr>\n",
       "    <tr>\n",
       "      <th>std</th>\n",
       "      <td>1.0</td>\n",
       "      <td>1.0</td>\n",
       "      <td>1.0</td>\n",
       "    </tr>\n",
       "    <tr>\n",
       "      <th>min</th>\n",
       "      <td>1.0</td>\n",
       "      <td>4.0</td>\n",
       "      <td>7.0</td>\n",
       "    </tr>\n",
       "    <tr>\n",
       "      <th>25%</th>\n",
       "      <td>1.5</td>\n",
       "      <td>4.5</td>\n",
       "      <td>7.5</td>\n",
       "    </tr>\n",
       "    <tr>\n",
       "      <th>50%</th>\n",
       "      <td>2.0</td>\n",
       "      <td>5.0</td>\n",
       "      <td>8.0</td>\n",
       "    </tr>\n",
       "    <tr>\n",
       "      <th>75%</th>\n",
       "      <td>2.5</td>\n",
       "      <td>5.5</td>\n",
       "      <td>8.5</td>\n",
       "    </tr>\n",
       "    <tr>\n",
       "      <th>max</th>\n",
       "      <td>3.0</td>\n",
       "      <td>6.0</td>\n",
       "      <td>9.0</td>\n",
       "    </tr>\n",
       "  </tbody>\n",
       "</table>\n",
       "</div>"
      ],
      "text/plain": [
       "       col1  col2  col3\n",
       "count   3.0   3.0   3.0\n",
       "mean    2.0   5.0   8.0\n",
       "std     1.0   1.0   1.0\n",
       "min     1.0   4.0   7.0\n",
       "25%     1.5   4.5   7.5\n",
       "50%     2.0   5.0   8.0\n",
       "75%     2.5   5.5   8.5\n",
       "max     3.0   6.0   9.0"
      ]
     },
     "execution_count": 9,
     "metadata": {},
     "output_type": "execute_result"
    }
   ],
   "source": [
    "dictdf.describe()\n",
    "# being called only on integers and floats in the dataset"
   ]
  },
  {
   "cell_type": "code",
   "execution_count": 11,
   "id": "60d100a2",
   "metadata": {},
   "outputs": [],
   "source": [
    "# dictdf.describe(include='object')...do this to include other data types"
   ]
  },
  {
   "cell_type": "code",
   "execution_count": 12,
   "id": "7c94c09c",
   "metadata": {},
   "outputs": [],
   "source": [
    "#filtering columns"
   ]
  },
  {
   "cell_type": "code",
   "execution_count": 14,
   "id": "06a39f86",
   "metadata": {},
   "outputs": [
    {
     "data": {
      "text/plain": [
       "0    1\n",
       "1    2\n",
       "2    3\n",
       "Name: col1, dtype: int64"
      ]
     },
     "execution_count": 14,
     "metadata": {},
     "output_type": "execute_result"
    }
   ],
   "source": [
    "dictdf.col1\n",
    "# to get a column with a space in the name...dictdf['International plan\"]']"
   ]
  },
  {
   "cell_type": "code",
   "execution_count": 15,
   "id": "62b89de6",
   "metadata": {},
   "outputs": [],
   "source": [
    "# grab two columns, pass an array...dictdf(['State', 'International plan'])"
   ]
  },
  {
   "cell_type": "code",
   "execution_count": null,
   "id": "7c6c9664",
   "metadata": {},
   "outputs": [],
   "source": [
    "#github respository"
   ]
  }
 ],
 "metadata": {
  "kernelspec": {
   "display_name": "Python 3 (ipykernel)",
   "language": "python",
   "name": "python3"
  },
  "language_info": {
   "codemirror_mode": {
    "name": "ipython",
    "version": 3
   },
   "file_extension": ".py",
   "mimetype": "text/x-python",
   "name": "python",
   "nbconvert_exporter": "python",
   "pygments_lexer": "ipython3",
   "version": "3.9.13"
  }
 },
 "nbformat": 4,
 "nbformat_minor": 5
}
